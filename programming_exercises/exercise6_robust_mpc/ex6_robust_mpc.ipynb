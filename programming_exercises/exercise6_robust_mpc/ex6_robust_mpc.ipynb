{
 "cells": [
  {
   "cell_type": "markdown",
   "id": "d68cf835",
   "metadata": {},
   "source": [
    "# Exercise 6 | Robust MPC\n",
    "\n"
   ]
  },
  {
   "cell_type": "markdown",
   "id": "a39cf21b",
   "metadata": {},
   "source": [
    "## Problem 1 | Robust Invariant Set\n",
    "\n",
    "Design a robust MPC controller for the following linear system:\n",
    "\n",
    "$$x^+ = Ax + Bu + w,  A=\\begin{bmatrix}1 & 1 \\\\ 0 & 1\\end{bmatrix}, B=\\begin{bmatrix}1 \\\\ 0.5\\end{bmatrix} $$\n",
    "\n",
    "with constraints and bounded disturbance\n",
    "\n",
    "$$\\mathcal{X} = \\{x \\mid \\|x\\|_{\\infty} \\leq 3 \\}, \\quad \\mathcal{U} = \\{u \\mid ~\\|u\\|_{\\infty} \\leq 0.5 \\} \\quad \\mathcal{W} = \\{w \\mid \\|w\\|_{\\infty} \\leq 0.1 \\} $$\n",
    "\n",
    "The matrix $K$ is the LQR gain with $Q=I$ and $R=10$.\n",
    "\n"
   ]
  },
  {
   "cell_type": "code",
   "execution_count": null,
   "id": "4872ac65",
   "metadata": {},
   "outputs": [],
   "source": [
    "import numpy as np\n",
    "from mpt4py import Polyhedron\n",
    "from control import dlqr\n",
    "\n",
    "A = np.array([[1, 1], [0, 1]])\n",
    "B = np.array([[1], [0.5]])\n",
    "Q = np.eye(2)\n",
    "R = 10 * np.eye(1)\n",
    "\n",
    "K, Qf, _ = dlqr(A, B, Q, R)\n",
    "K = -K\n",
    "A_cl = A + B @ K\n",
    "\n",
    "x_max = 3.\n",
    "u_max = 0.5\n",
    "w_max = 0.1\n",
    "\n",
    "X = Polyhedron.from_Hrep(A=np.vstack((np.eye(2), -np.eye(2))), b=x_max*np.ones(4))\n",
    "U = Polyhedron.from_Hrep(A=np.vstack((np.eye(1), -np.eye(1))), b=u_max*np.ones(2))\n",
    "W = Polyhedron.from_Hrep(A=np.vstack((np.eye(2), -np.eye(2))), b=w_max*np.ones(4))\n"
   ]
  },
  {
   "cell_type": "markdown",
   "id": "049dcbfb",
   "metadata": {},
   "source": [
    "### Task 1\n",
    "Implement a function to compute the robust pre-set operator $\\text{pre}^{\\mathcal{W}}(\\cdot)$\n"
   ]
  },
  {
   "cell_type": "code",
   "execution_count": null,
   "id": "be00c913",
   "metadata": {},
   "outputs": [],
   "source": [
    "def robust_pre_set(A_cl: np.ndarray, Omega: Polyhedron, W: Polyhedron) -> Polyhedron:\n",
    "\t\"\"\"\n",
    "\tCompute the robust pre-set of the polytopic set Omega under the \n",
    "\tautonomous LTI system x^+ = A_cl * x and polytopic disturbance set W.\n",
    "\t\"\"\"\n",
    "\t# TODO: ------------------\n",
    "\t# TODO: add your code here\n",
    "\tpre_Omega = ...\n",
    "\t# TODO: ------------------\n",
    "\treturn pre_Omega"
   ]
  },
  {
   "cell_type": "markdown",
   "id": "79319143",
   "metadata": {},
   "source": [
    "### Task 2\n",
    "Implement a function to compute the maximal robust invariant set $\\mathcal{X}_f^{\\mathcal{W}}$ for the above system. Use it to compute the maximal robust invariant set for the system mentioned above.\n",
    "\n",
    "Also compute the nominal maximal invariant set $\\mathcal{X}_f$ using your code from previous exercises. \n",
    "\n",
    "Which set do you expect to be larger? Plot both sets and compare.\n",
    "\n",
    "**Hints**: The algorithm to compute maximal robust invariant set is summarized in the following steps. This is indeed the same algorithm as computing maximal invariant set for nominal MPC. The only difference is the pre-set operator $\\text{pre}(\\Omega_i)$ is replaced by the robust pre set operator $\\text{pre}^\\mathcal{W}(\\Omega_i)$. \n",
    "\n",
    "$$\n",
    "\\begin{array}{l}\n",
    "\t\\Omega_0 \\gets \\mathcal{X} \\\\\n",
    "\t\\textbf{loop} \\\\\n",
    "\t\\quad \\Omega_{i+1} \\gets \\text{pre}^\\mathcal{W}(\\Omega_i) \\cap \\Omega_i \\\\\n",
    "\t\\quad \\textbf{if} ~ \\Omega_{i+1} == \\textbf{pre}^\\mathcal{W} (\\Omega_i) \\\\\n",
    "\t\\quad\\quad \\textbf{return} ~ \\Omega_{\\infty}^\\mathcal{W} = \\Omega_{i} \\\\\n",
    "\t\\quad \\textbf{end if} \\\\\n",
    "\t\\textbf{end loop}\n",
    "\\end{array}\n",
    "$$\n"
   ]
  },
  {
   "cell_type": "code",
   "execution_count": null,
   "id": "ee1747b8",
   "metadata": {},
   "outputs": [],
   "source": [
    "def max_robust_invariant_set(A_cl: np.ndarray, Omega: Polyhedron, W: Polyhedron, max_iter: int = 50) -> Polyhedron:\n",
    "\t\"\"\"\n",
    "\tCompute the maximal robust positive invariant set of the polytopic set Omega\n",
    "\tunder the autonomous LTI system x^+ = A_cl * x.\n",
    "\t\"\"\"\n",
    "\t# TODO: ------------------\n",
    "\t# TODO: add your code here\n",
    "\treturn ...\n",
    "\t# TODO: ------------------\n",
    "\t"
   ]
  },
  {
   "cell_type": "code",
   "execution_count": null,
   "id": "bf80d75b",
   "metadata": {},
   "outputs": [],
   "source": [
    "def max_invariant_set(A_cl, X: Polyhedron, max_iter = 30) -> Polyhedron:\n",
    "\t\"\"\"\n",
    "\tCompute invariant set for an autonomous linear time invariant system x^+ = A_cl x\n",
    "\t\"\"\"\n",
    "\t# TODO: ------------------\n",
    "\t# TODO: add your code here\n",
    "\treturn ...\n",
    "\t# TODO: ------------------\n"
   ]
  },
  {
   "cell_type": "code",
   "execution_count": null,
   "id": "21135b89",
   "metadata": {},
   "outputs": [],
   "source": [
    "X_and_KU = X.intersect(Polyhedron.from_Hrep(U.A@K, U.b))\n",
    "Xf = max_invariant_set(A_cl, X_and_KU)\n",
    "Xf_W = max_robust_invariant_set(A_cl, X_and_KU, W)\n",
    "\n",
    "\n",
    "# Plot the sets\n",
    "import matplotlib.pyplot as plt\n",
    "%config InlineBackend.figure_format = 'retina'\n",
    "\n",
    "fig, ax = plt.subplots(1, 1)\n",
    "X_and_KU.plot(ax, color='tab:green', opacity=1., label=r'$\\mathcal{X}\\cap K\\mathcal{U}$')\n",
    "Xf.plot(ax, color='tab:orange', opacity=1., label=r'$\\mathcal{X}_f$')\n",
    "Xf_W.plot(ax, color='tab:blue', opacity=1., label=r'$\\mathcal{X}^\\mathcal{W}_f$')\n",
    "plt.legend()\n",
    "plt.show()"
   ]
  },
  {
   "cell_type": "markdown",
   "id": "3305022a",
   "metadata": {},
   "source": [
    "### Task 3\n",
    "\n",
    "Plot several trajectories under bounded disturbance $w_i\\in\\mathcal{W}$ starting from various $x_0\\in\\mathcal{X}_f^{\\mathcal{W}} $. Show that the entire trajectory $\\{x_i\\}$ remains within $\\mathcal{X}_f^{\\mathcal{W}}$.\n",
    "\n",
    "**Hints:** in *mpt4py*, you can uniformly sample $m$ points from a polyhedron $P\\subset \\mathbb{R}^n$ with `x_sampled = P.sample(m)`, where `x_sample` is a NumPy array with shape `(m, n)`."
   ]
  },
  {
   "cell_type": "code",
   "execution_count": null,
   "id": "0a42e271",
   "metadata": {},
   "outputs": [],
   "source": [
    "num_samples = 30\n",
    "x0_samples = Xf_W.sample(num_samples)  # ndarray with shape (num_samples, 2)\n",
    "N_sim = 10  # simulation steps\n",
    "\n",
    "# Plot the sets\n",
    "fig, ax = plt.subplots(1, 1)\n",
    "X_and_KU.plot(ax, color='tab:green', opacity=1., label=r'$\\mathcal{X}\\cap K\\mathcal{U}$')\n",
    "Xf.plot(ax, color='tab:blue', opacity=1., label=r'$\\mathcal{X}_f$')\n",
    "Xf_W.plot(ax, color='tab:purple', opacity=1., label=r'$\\mathcal{X}^\\mathcal{W}_f$')\n",
    "ax.set_xlabel('x1')\n",
    "ax.set_ylabel('x2')\n",
    "\n",
    "# TODO: ------------------\n",
    "# TODO: add your code here\n",
    "# Sample disturbed trajectories and plot\n",
    "# TODO: ------------------\n",
    "\n",
    "plt.show()"
   ]
  },
  {
   "cell_type": "markdown",
   "id": "3de6ca95",
   "metadata": {},
   "source": [
    "### Task 4\n",
    "\n",
    "Plot several trajectories under bounded disturbance $w_i\\in\\mathcal{W}$ starting from various $x_0 \\in \\mathcal{X}_f \\setminus \\mathcal{X}_f^{\\mathcal{W}}$. Show that there exists an $x_i \\notin \\mathcal{X}$.\n",
    "\n",
    "**Hints:** You can sample points $x_0\\in \\mathcal{X}_f \\setminus \\mathcal{X}_f^{\\mathcal{W}}$ by sampling a number of points from $\\mathcal{X}_f$ and remove those that aren't in the $\\mathcal{X}_f^{\\mathcal{W}}$."
   ]
  },
  {
   "cell_type": "code",
   "execution_count": null,
   "id": "67117030",
   "metadata": {},
   "outputs": [],
   "source": [
    "num_samples = 30\n",
    "N_sim = 10  # simulation steps\n",
    "\n",
    "# Plot the sets\n",
    "fig, ax = plt.subplots(1, 1)\n",
    "X_and_KU.plot(ax, color='tab:green', opacity=1., label=r'$\\mathcal{X}\\cap K\\mathcal{U}$')\n",
    "Xf.plot(ax, color='tab:blue', opacity=1., label=r'$\\mathcal{X}_f$')\n",
    "Xf_W.plot(ax, color='tab:purple', opacity=1., label=r'$\\mathcal{X}^\\mathcal{W}_f$')\n",
    "ax.set_xlabel('x1')\n",
    "ax.set_ylabel('x2')\n",
    "\n",
    "# TODO: ------------------\n",
    "# TODO: add your code here\n",
    "# Sample disturbed trajectories and plot\n",
    "# TODO: ------------------\n",
    "\n",
    "plt.show()"
   ]
  }
 ],
 "metadata": {
  "kernelspec": {
   "display_name": "mpc2025",
   "language": "python",
   "name": "python3"
  },
  "language_info": {
   "codemirror_mode": {
    "name": "ipython",
    "version": 3
   },
   "file_extension": ".py",
   "mimetype": "text/x-python",
   "name": "python",
   "nbconvert_exporter": "python",
   "pygments_lexer": "ipython3",
   "version": "3.12.11"
  }
 },
 "nbformat": 4,
 "nbformat_minor": 5
}
